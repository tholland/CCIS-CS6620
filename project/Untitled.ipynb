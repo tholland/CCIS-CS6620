{
 "cells": [
  {
   "cell_type": "code",
   "execution_count": 1,
   "metadata": {
    "collapsed": false
   },
   "outputs": [
    {
     "name": "stdout",
     "output_type": "stream",
     "text": [
      "Populating the interactive namespace from numpy and matplotlib\n"
     ]
    }
   ],
   "source": [
    "import pandas as pd\n",
    "import numpy as np\n",
    "import os\n",
    "import matplotlib.pylab as plt\n",
    "from sklearn.metrics import classification_report\n",
    "from sklearn.model_selection import train_test_split\n",
    "from sklearn.ensemble import ExtraTreesClassifier\n",
    "from sklearn.linear_model import LogisticRegression\n",
    "from sklearn.ensemble import RandomForestClassifier\n",
    "from sklearn import datasets\n",
    "from sklearn import metrics\n",
    "from sklearn.metrics import accuracy_score, confusion_matrix\n",
    "from sklearn.feature_selection import RFE\n",
    "from sklearn.model_selection import KFold, cross_val_score\n",
    "import sklearn\n",
    "import warnings\n",
    "warnings.filterwarnings('ignore')\n",
    "%pylab inline\n",
    "%matplotlib inline\n",
    "csv_clean = pd.read_csv('census.csv')"
   ]
  },
  {
   "cell_type": "code",
   "execution_count": 2,
   "metadata": {
    "collapsed": true
   },
   "outputs": [],
   "source": [
    "csv_clean = csv_clean.dropna()"
   ]
  },
  {
   "cell_type": "code",
   "execution_count": 3,
   "metadata": {
    "collapsed": true
   },
   "outputs": [],
   "source": [
    "csv_clean = csv_clean[csv_clean.occupation != '?']"
   ]
  },
  {
   "cell_type": "code",
   "execution_count": 4,
   "metadata": {
    "collapsed": true
   },
   "outputs": [],
   "source": [
    "csv_clean['native_country_numeric'] = csv_clean['native.country'].map({'United-States':0,\n",
    "'Mexico':1,\n",
    "'Philippines':3,\n",
    "'Germany':2,\n",
    "'Canada':0,\n",
    "'Puerto-Rico':1,\n",
    "'El-Salvador':1,\n",
    "'India':3,\n",
    "'Cuba':1,\n",
    "'England':2,\n",
    "'Jamaica':2,\n",
    "'South':3,\n",
    "'China':3,\n",
    "'Italy':2,\n",
    "'Dominican-Republic':1,\n",
    "'Vietnam':3,\n",
    "'Guatemala':1,\n",
    "'Japan':3,\n",
    "'Poland':2,\n",
    "'Columbia':1,\n",
    "'Taiwan':3,\n",
    "'Haiti':3,\n",
    "'Iran':4,\n",
    "'Portugal':2,\n",
    "'Nicaragua':1,\n",
    "'Peru':1,\n",
    "'France':2,\n",
    "'Greece':2,\n",
    "'Ecuador':1,\n",
    "'Ireland':2,\n",
    "'Hong':3,\n",
    "'Trinadad&Tobago':1,\n",
    "'Cambodia':3,\n",
    "'Laos':3,\n",
    "'Thailand':3,\n",
    "'Yugoslavia':2,\n",
    "'Outlying-US(Guam-USVI-etc)':4,\n",
    "'Honduras':1,\n",
    "'Hungary':2,\n",
    "'Scotland':2,\n",
    "'Holand-Netherlands':2,\n",
    "'?':4}, na_action='ignore')"
   ]
  },
  {
   "cell_type": "code",
   "execution_count": 5,
   "metadata": {
    "collapsed": true
   },
   "outputs": [],
   "source": [
    "csv_clean['workclass_numeric'] = csv_clean.workclass.map({'Private':0, 'Self-emp-not-inc':1, 'Self-emp-inc':2, 'Federal-gov':3, 'Local-gov':4, 'State-gov':5, 'Without-pay':6, 'Never-worked':7})\n",
    "csv_clean['marital_numeric'] = csv_clean['marital.status'].map({'Never-married':0, 'Divorced':1, 'Separated':2, 'Widowed':3, 'Married-spouse-absent':4, 'Married-civ-spouse':5, 'Married-AF-spouse':5})\n",
    "csv_clean['race_numeric'] = csv_clean.race.map({'White':0, 'Black':1, 'Asian-Pac-Islander':2, 'Amer-Indian-Eskimo':3, 'Other':4})\n",
    "csv_clean['rel_numeric'] = csv_clean.relationship.map({'Not-in-family':0, 'Unmarried':0, 'Other-relative':0, 'Own-child':1, 'Husband':1, 'Wife':1})\n",
    "csv_clean['sex_numeric'] = csv_clean.sex.map({'Male':0, 'Female':1})\n",
    "csv_clean['income_over_50K'] = np.where(csv_clean.income == '<=50K', 0, 1)"
   ]
  },
  {
   "cell_type": "code",
   "execution_count": 6,
   "metadata": {
    "collapsed": true
   },
   "outputs": [],
   "source": [
    "X = csv_clean[['age', 'workclass_numeric', 'education.num', 'marital_numeric', 'race_numeric', 'sex_numeric', 'rel_numeric', 'capital.gain', 'capital.loss', 'native_country_numeric']]\n",
    "#X = csv_clean[['education.num', 'marital_numeric', 'capital.gain']]\n",
    "y = csv_clean.income_over_50K"
   ]
  },
  {
   "cell_type": "code",
   "execution_count": null,
   "metadata": {
    "collapsed": true
   },
   "outputs": [],
   "source": [
    "extra_tree = ExtraTreesClassifier()\n",
    "extra_tree.fit(X, y)\n",
    "fea_imp = extra_tree.feature_importances_\n",
    "print(fea_imp)\n",
    "max_fea_imp = max(fea_imp)\n",
    "print(max_fea_imp)\n",
    "\n",
    "pos = np.arange(9) + 0.75\n",
    "plt.barh(pos, fea_imp, align='center')\n",
    "plt.yticks(pos, ('workclass_numeric', 'education.num', 'marital_numeric', 'race_numeric', 'sex_numeric', 'rel_numeric', 'capital.gain', 'capital.loss', 'native_country_numeric'))\n",
    "plt.xlabel('Accuracy')\n",
    "plt.ylabel('Features')\n",
    "plt.title('Importance Features')\n",
    "plt.grid(False)"
   ]
  }
 ],
 "metadata": {
  "kernelspec": {
   "display_name": "Python 3",
   "language": "python",
   "name": "python3"
  },
  "language_info": {
   "codemirror_mode": {
    "name": "ipython",
    "version": 3
   },
   "file_extension": ".py",
   "mimetype": "text/x-python",
   "name": "python",
   "nbconvert_exporter": "python",
   "pygments_lexer": "ipython3",
   "version": "3.4.5"
  }
 },
 "nbformat": 4,
 "nbformat_minor": 2
}
