{
 "cells": [
  {
   "cell_type": "markdown",
   "metadata": {},
   "source": [
    "## Assignment 8 - Evaluation##"
   ]
  },
  {
   "cell_type": "code",
   "execution_count": 1,
   "metadata": {
    "collapsed": false
   },
   "outputs": [],
   "source": [
    "#%pylab inline\n",
    "%matplotlib inline \n",
    "\n",
    "import pandas as pd"
   ]
  },
  {
   "cell_type": "code",
   "execution_count": 2,
   "metadata": {
    "collapsed": false,
    "scrolled": true
   },
   "outputs": [],
   "source": [
    "names = pd.read_csv('names', header=None)\n",
    "data = pd.read_csv('./hepatitis.data', names=names.values[0], header=None)"
   ]
  },
  {
   "cell_type": "markdown",
   "metadata": {},
   "source": [
    "While there aren't multiclass groups here, missing values weren't handled very well last time, so this is an opportunity to use something better.  In this case the median value of the feature with a missing value for its class is used."
   ]
  },
  {
   "cell_type": "code",
   "execution_count": 3,
   "metadata": {
    "collapsed": false,
    "scrolled": true
   },
   "outputs": [],
   "source": [
    "import numpy as np\n",
    "def _missing_map(data, label, map_type,  method=np.median, missing='?', class_lab='CLASS'):\n",
    "    classes = data[data[label] == missing][class_lab].drop_duplicates().values\n",
    "    means = {}\n",
    "    for cl in classes:\n",
    "        \n",
    "        means[cl] = method(list(map(map_type, data[(data[class_lab] == cl) & \n",
    "                                                   (data[label] != missing)][label].values)))\n",
    "    return means\n",
    "\n",
    "def set_missing_as_median_by_class(data, label, map_type, missing='?'):\n",
    "    missing_map_vals = _missing_map(data, label, map_type, missing=missing, class_lab='CLASS')\n",
    "    for cl in missing_map_vals.keys():\n",
    "        repl = data[data.CLASS == cl][label].replace([missing], missing_map_vals[cl], regex=False)\n",
    "        data.loc[data.CLASS == cl, label] = repl\n",
    "\n",
    "# int values\n",
    "for feat in ['STEROID', 'FATIGUE', 'ANOREXIA', 'LIVER_BIG', 'LIVER_FIRM', \n",
    "             'SPIDERS', 'ASCITES', 'VARICES',  'MALAISE',   'SPLEEN_PALPABLE']:\n",
    "    set_missing_as_median_by_class(data, feat, int)\n",
    "# float values\n",
    "for feat in ['BILIRUBIN', 'ALKPHOSPHATE',\n",
    "             'SGOT',    'ALBUMIN', 'PROTIME']:\n",
    "    set_missing_as_median_by_class(data, feat, float)"
   ]
  },
  {
   "cell_type": "markdown",
   "metadata": {},
   "source": [
    "Oversampling the minority class with regular SMOTE to get better results."
   ]
  },
  {
   "cell_type": "code",
   "execution_count": 4,
   "metadata": {
    "collapsed": false,
    "scrolled": true
   },
   "outputs": [],
   "source": [
    "from imblearn.over_sampling import SMOTE\n",
    "rseed=100\n",
    "sm = SMOTE(random_state=rseed)\n",
    "X_res, y_res = sm.fit_sample(data[data.columns.drop(['CLASS'])], data['CLASS'])\n",
    "X_res = pd.DataFrame(X_res, columns=data.columns.drop(['CLASS']))\n",
    "y_res = pd.Series(y_res, name='CLASS')"
   ]
  },
  {
   "cell_type": "markdown",
   "metadata": {},
   "source": [
    "Explicitly stratify the training set in case it wasn't done last time."
   ]
  },
  {
   "cell_type": "code",
   "execution_count": 5,
   "metadata": {
    "collapsed": false,
    "scrolled": true
   },
   "outputs": [
    {
     "name": "stdout",
     "output_type": "stream",
     "text": [
      "Training set:\n",
      "2    105\n",
      "1    104\n",
      "Name: CLASS, dtype: int64\n",
      "Test set:\n",
      "1    19\n",
      "2    18\n",
      "Name: CLASS, dtype: int64\n"
     ]
    }
   ],
   "source": [
    "from sklearn import tree, model_selection\n",
    "\n",
    "data_train, data_test, labels_train, labels_test = model_selection.train_test_split(X_res, y_res, random_state=rseed, test_size=0.15, stratify=y_res)\n",
    "print(\"Training set:\\n{}\".format(labels_train.value_counts()))\n",
    "print(\"Test set:\\n{}\".format(labels_test.value_counts()))"
   ]
  },
  {
   "cell_type": "code",
   "execution_count": 6,
   "metadata": {
    "collapsed": false,
    "scrolled": true
   },
   "outputs": [],
   "source": [
    "clf2 = tree.DecisionTreeClassifier(max_features='auto', max_depth=6, random_state=rseed, presort=True)\n",
    "fit = clf2.fit(data_train, labels_train)"
   ]
  },
  {
   "cell_type": "markdown",
   "metadata": {},
   "source": [
    "### 1 ###"
   ]
  },
  {
   "cell_type": "markdown",
   "metadata": {},
   "source": [
    "From here on we'll define class 1 (DIE) as positive and class 2 (LIVE) as negative."
   ]
  },
  {
   "cell_type": "markdown",
   "metadata": {},
   "source": [
    "With the modifications, the accuracy of the decision tree has gone up slighly."
   ]
  },
  {
   "cell_type": "code",
   "execution_count": 7,
   "metadata": {
    "collapsed": false,
    "scrolled": false
   },
   "outputs": [
    {
     "name": "stdout",
     "output_type": "stream",
     "text": [
      "Accuracy: 0.8648648648648649\n"
     ]
    }
   ],
   "source": [
    "print(\"Accuracy: {}\".format(clf2.score(data_test, labels_test)))"
   ]
  },
  {
   "cell_type": "markdown",
   "metadata": {},
   "source": [
    "### 2 ###"
   ]
  },
  {
   "cell_type": "code",
   "execution_count": 8,
   "metadata": {
    "collapsed": false
   },
   "outputs": [
    {
     "name": "stdout",
     "output_type": "stream",
     "text": [
      "Precision: 0.85\n",
      "Recall: 0.8947368421052632\n"
     ]
    }
   ],
   "source": [
    "from sklearn.metrics import precision_score, recall_score\n",
    "\n",
    "class_predict = clf2.predict(data_test)\n",
    "print(\"Precision: {}\".format(precision_score(labels_test, class_predict)))\n",
    "print(\"Recall: {}\".format(recall_score(labels_test, class_predict)))"
   ]
  },
  {
   "cell_type": "markdown",
   "metadata": {},
   "source": [
    "### 3 ###"
   ]
  },
  {
   "cell_type": "code",
   "execution_count": 9,
   "metadata": {
    "collapsed": false
   },
   "outputs": [
    {
     "name": "stdout",
     "output_type": "stream",
     "text": [
      "             precision    recall  f1-score   support\n",
      "\n",
      "          1       0.85      0.89      0.87        19\n",
      "          2       0.88      0.83      0.86        18\n",
      "\n",
      "avg / total       0.87      0.86      0.86        37\n",
      "\n"
     ]
    }
   ],
   "source": [
    "from sklearn.metrics import classification_report, confusion_matrix\n",
    "\n",
    "print(classification_report(labels_test, class_predict))"
   ]
  },
  {
   "cell_type": "markdown",
   "metadata": {},
   "source": [
    "### 4 ###"
   ]
  },
  {
   "cell_type": "code",
   "execution_count": 10,
   "metadata": {
    "collapsed": false,
    "scrolled": false
   },
   "outputs": [
    {
     "name": "stdout",
     "output_type": "stream",
     "text": [
      "Confusion matrix, without normalization\n",
      "[[17  2]\n",
      " [ 3 15]]\n"
     ]
    },
    {
     "data": {
      "image/png": "[encoded data removed]",
      "text/plain": [
       "<matplotlib.figure.Figure at 0x7fd6f5bc8c18>"
      ]
     },
     "metadata": {},
     "output_type": "display_data"
    }
   ],
   "source": [
    "import itertools\n",
    "import matplotlib.pyplot as plt\n",
    "\n",
    "# plot_confusion_matrix taken from: \n",
    "# http://scikit-learn.org/stable/auto_examples/model_selection/plot_confusion_matrix.html\n",
    "def plot_confusion_matrix(cm, classes,\n",
    "                          normalize=False,\n",
    "                          title='Confusion matrix',\n",
    "                          cmap=plt.cm.Blues):\n",
    "    \"\"\"\n",
    "    This function prints and plots the confusion matrix.\n",
    "    Normalization can be applied by setting `normalize=True`.\n",
    "    \"\"\"\n",
    "    plt.imshow(cm, interpolation='nearest', cmap=cmap)\n",
    "    plt.title(title)\n",
    "    plt.colorbar()\n",
    "    tick_marks = np.arange(len(classes))\n",
    "    plt.xticks(tick_marks, classes, rotation=45)\n",
    "    plt.yticks(tick_marks, classes)\n",
    "\n",
    "    if normalize:\n",
    "        cm = cm.astype('float') / cm.sum(axis=1)[:, np.newaxis]\n",
    "        print(\"Normalized confusion matrix\")\n",
    "    else:\n",
    "        print('Confusion matrix, without normalization')\n",
    "\n",
    "    print(cm)\n",
    "\n",
    "    thresh = cm.max() / 2.\n",
    "    for i, j in itertools.product(range(cm.shape[0]), range(cm.shape[1])):\n",
    "        plt.text(j, i, cm[i, j],\n",
    "                 horizontalalignment=\"center\",\n",
    "                 color=\"white\" if cm[i, j] > thresh else \"black\")\n",
    "\n",
    "    plt.tight_layout()\n",
    "    plt.ylabel('True label')\n",
    "    plt.xlabel('Predicted label')\n",
    "matrix = confusion_matrix(labels_test, class_predict, labels=[1, 2])\n",
    "plt.figure()\n",
    "plot_confusion_matrix(matrix, classes=['DIE', 'LIVE'],\n",
    "                      title='Confusion matrix')\n",
    "plt.show()"
   ]
  },
  {
   "cell_type": "markdown",
   "metadata": {},
   "source": [
    "### 5 ###"
   ]
  },
  {
   "cell_type": "code",
   "execution_count": 11,
   "metadata": {
    "collapsed": false,
    "scrolled": false
   },
   "outputs": [
    {
     "data": {
      "image/png": "[encoded data removed]",
      "text/plain": [
       "<matplotlib.figure.Figure at 0x7fd6f5bc88d0>"
      ]
     },
     "metadata": {},
     "output_type": "display_data"
    }
   ],
   "source": [
    "# Mostly borrowed from:\n",
    "# http://scikit-learn.org/stable/auto_examples/model_selection/plot_roc.html\n",
    "from sklearn.metrics import roc_curve, auc\n",
    "import matplotlib.pyplot as plt\n",
    "from itertools import cycle\n",
    "\n",
    "# Compute ROC curve and ROC area\n",
    "fpr, tpr, _ = roc_curve(labels_test==1, clf2.predict_proba(data_test)[:,0])\n",
    "roc_auc = auc(fpr, tpr)\n",
    "\n",
    "# Compute ROC curve and ROC area\n",
    "\n",
    "# Plot all ROC curves\n",
    "plt.figure()\n",
    "plt.plot(fpr, tpr, 'aqua', lw=2,\n",
    "         label='ROC curve of class (area = {0:0.2f})'.format(roc_auc))\n",
    "\n",
    "plt.plot([0, 1], [0, 1], 'k--', lw=2)\n",
    "plt.xlim([0.0, 1.0])\n",
    "plt.ylim([0.0, 1.05])\n",
    "plt.xlabel('False Positive Rate')\n",
    "plt.ylabel('True Positive Rate')\n",
    "plt.title('ROC')\n",
    "plt.legend(loc=\"lower right\")\n",
    "plt.show()"
   ]
  },
  {
   "cell_type": "markdown",
   "metadata": {},
   "source": [
    "### 6 ###"
   ]
  },
  {
   "cell_type": "code",
   "execution_count": 12,
   "metadata": {
    "collapsed": false
   },
   "outputs": [
    {
     "data": {
      "image/png": "[encoded data removed]",
      "text/plain": [
       "<matplotlib.figure.Figure at 0x7fd6f5bc8780>"
      ]
     },
     "metadata": {},
     "output_type": "display_data"
    }
   ],
   "source": [
    "# Mostly borrowed from:\n",
    "# http://scikit-learn.org/stable/auto_examples/model_selection/plot_precision_recall.html\n",
    "from sklearn.metrics import precision_recall_curve, average_precision_score\n",
    "\n",
    "precision, recall, _ = precision_recall_curve(labels_test==1, clf2.predict_proba(data_test)[:,0])\n",
    "average_precision = average_precision_score(labels_test==1, clf2.predict_proba(data_test)[:,0])\n",
    "\n",
    "plt.clf()\n",
    "plt.plot(recall, precision, lw=2, color='navy',\n",
    "         label='Precision-Recall curve')\n",
    "plt.xlabel('Recall')\n",
    "plt.ylabel('Precision')\n",
    "plt.ylim([0.0, 1.05])\n",
    "plt.xlim([0.0, 1.0])\n",
    "plt.title('Precision-Recall example: AUC={0:0.2f}'.format(average_precision))\n",
    "plt.legend(loc=\"lower left\")\n",
    "plt.show()"
   ]
  }
 ],
 "metadata": {
  "kernelspec": {
   "display_name": "Python 3",
   "language": "python",
   "name": "python3"
  },
  "language_info": {
   "codemirror_mode": {
    "name": "ipython",
    "version": 3
   },
   "file_extension": ".py",
   "mimetype": "text/x-python",
   "name": "python",
   "nbconvert_exporter": "python",
   "pygments_lexer": "ipython3",
   "version": "3.4.5"
  }
 },
 "nbformat": 4,
 "nbformat_minor": 2
}
