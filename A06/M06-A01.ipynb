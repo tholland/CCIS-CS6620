{
 "cells": [
  {
   "cell_type": "markdown",
   "metadata": {
    "collapsed": false
   },
   "source": [
    "## Assignment 5 - Helper Functions"
   ]
  },
  {
   "cell_type": "code",
   "execution_count": 1,
   "metadata": {
    "collapsed": false
   },
   "outputs": [
    {
     "name": "stdout",
     "output_type": "stream",
     "text": [
      "Populating the interactive namespace from numpy and matplotlib\n"
     ]
    }
   ],
   "source": [
    "%pylab inline\n",
    "\n",
    "# (c) 2014 Reid Johnson and Everaldo Aguiar\n",
    "#\n",
    "# Functions to work with continuous data and linear regression models.\n",
    "\n",
    "import matplotlib.pyplot as pl\n",
    "\n",
    "def pairs(data):\n",
    "    \"\"\"Generates and shows a pairwise scatterplot of the dataset features.\n",
    "\n",
    "    A figure with nxn scatterplots is generated, where n is the number of features. The features are\n",
    "    defined as the all columns excluding the final column, which is defined as the class.\n",
    "\n",
    "    Args:\n",
    "      data (array): A dataset.\n",
    "\n",
    "    \"\"\"\n",
    "    i = 1\n",
    "\n",
    "    # Divide columns into features and class.\n",
    "    features = list(data.columns)\n",
    "    classes = features[-1] # create class column\n",
    "    del features[-1] # delete class column from feature vector\n",
    "\n",
    "    # Generate an nxn subplot figure, where n is the number of features.\n",
    "    figure = pl.figure(figsize=(5*(len(data.columns)-1), 4*(len(data.columns)-1)))\n",
    "    for col1 in data[features]:\n",
    "        for col2 in data[features]:\n",
    "            ax = pl.subplot(len(data.columns)-1, len(data.columns)-1, i)\n",
    "            if col1 == col2:\n",
    "                ax.text(2.5, 4.5, col1, style='normal', fontsize=20)\n",
    "                ax.axis([0, 10, 0, 10])\n",
    "                pl.xticks([]), pl.yticks([])\n",
    "            else:\n",
    "                for name in data[classes]:\n",
    "                    cond = data[classes] == name\n",
    "                    ax.plot(data[col2][cond], data[col1][cond], linestyle='none', marker='o', label=name)\n",
    "                #t = plt.title(name)\n",
    "            i += 1\n",
    "\n",
    "    pl.show()"
   ]
  },
  {
   "cell_type": "code",
   "execution_count": null,
   "metadata": {
    "collapsed": true
   },
   "outputs": [],
   "source": []
  }
 ],
 "metadata": {
  "kernelspec": {
   "display_name": "Python 2",
   "language": "python",
   "name": "python2"
  },
  "language_info": {
   "codemirror_mode": {
    "name": "ipython",
    "version": 2
   },
   "file_extension": ".py",
   "mimetype": "text/x-python",
   "name": "python",
   "nbconvert_exporter": "python",
   "pygments_lexer": "ipython2",
   "version": "2.7.12"
  }
 },
 "nbformat": 4,
 "nbformat_minor": 0
}
